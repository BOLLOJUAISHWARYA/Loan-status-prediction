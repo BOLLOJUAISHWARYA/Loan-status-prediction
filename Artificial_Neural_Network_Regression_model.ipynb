{
  "nbformat": 4,
  "nbformat_minor": 0,
  "metadata": {
    "colab": {
      "name": "Artificial Neural Network Regression model",
      "provenance": [],
      "collapsed_sections": [],
      "include_colab_link": true
    },
    "kernelspec": {
      "name": "python3",
      "display_name": "Python 3"
    }
  },
  "cells": [
    {
      "cell_type": "markdown",
      "metadata": {
        "id": "view-in-github",
        "colab_type": "text"
      },
      "source": [
        "<a href=\"https://colab.research.google.com/github/BOLLOJUAISHWARYA/Loan-status-prediction/blob/master/Artificial_Neural_Network_Regression_model.ipynb\" target=\"_parent\"><img src=\"https://colab.research.google.com/assets/colab-badge.svg\" alt=\"Open In Colab\"/></a>"
      ]
    },
    {
      "cell_type": "markdown",
      "metadata": {
        "id": "3cbb7fRy-eyr"
      },
      "source": [
        "# Artificial Neural Network"
      ]
    },
    {
      "cell_type": "markdown",
      "metadata": {
        "id": "8sNDnxE2-pwE"
      },
      "source": [
        "### Importing the libraries"
      ]
    },
    {
      "cell_type": "code",
      "metadata": {
        "id": "lxChR1Rk-umf"
      },
      "source": [
        "import numpy as np\n",
        "import pandas as pd\n",
        "import tensorflow as tf\n",
        "import matplotlib.pyplot as plt"
      ],
      "execution_count": null,
      "outputs": []
    },
    {
      "cell_type": "markdown",
      "metadata": {
        "id": "AG3FQEch-yuA"
      },
      "source": [
        "## Part 1 - Data Preprocessing"
      ]
    },
    {
      "cell_type": "markdown",
      "metadata": {
        "id": "-4zq8Mza_D9O"
      },
      "source": [
        "### Importing the dataset"
      ]
    },
    {
      "cell_type": "code",
      "source": [
        "dataset = pd.read_excel('Folds5x2_pp.xlsx')\n",
        "X = dataset.iloc[:,:-1].values\n",
        "Y = dataset.iloc[:,-1].values"
      ],
      "metadata": {
        "id": "uSrtmFRWFUno"
      },
      "execution_count": null,
      "outputs": []
    },
    {
      "cell_type": "markdown",
      "source": [
        "iloc index based slicing where as loc is label based there are 5 sheets in dataset ,while reading default is zero so it read only 1st sheet"
      ],
      "metadata": {
        "id": "R9rFLbaJr_pS"
      }
    },
    {
      "cell_type": "code",
      "source": [
        "print(X)\n",
        "print(Y)"
      ],
      "metadata": {
        "colab": {
          "base_uri": "https://localhost:8080/"
        },
        "id": "D6J5-Q-KG2Uw",
        "outputId": "64f3e1ab-4789-4d24-fdd3-a4a826d7f127"
      },
      "execution_count": null,
      "outputs": [
        {
          "output_type": "stream",
          "name": "stdout",
          "text": [
            "[[  14.96   41.76 1024.07   73.17]\n",
            " [  25.18   62.96 1020.04   59.08]\n",
            " [   5.11   39.4  1012.16   92.14]\n",
            " ...\n",
            " [  31.32   74.33 1012.92   36.48]\n",
            " [  24.48   69.45 1013.86   62.39]\n",
            " [  21.6    62.52 1017.23   67.87]]\n",
            "[463.26 444.37 488.56 ... 429.57 435.74 453.28]\n"
          ]
        }
      ]
    },
    {
      "cell_type": "markdown",
      "metadata": {
        "id": "VC6omXel_Up0"
      },
      "source": [
        "### Splitting the dataset into the Training set and Test set"
      ]
    },
    {
      "cell_type": "code",
      "metadata": {
        "id": "L5edeb2r_agx"
      },
      "source": [
        "from sklearn.model_selection import train_test_split\n",
        "X_train, X_test, Y_train, Y_test = train_test_split(X, Y, test_size = 0.2, random_state = 0)"
      ],
      "execution_count": null,
      "outputs": []
    },
    {
      "cell_type": "code",
      "source": [
        "print(X_train)\n",
        "print(X_test)\n",
        "print(Y_train,Y_test)"
      ],
      "metadata": {
        "colab": {
          "base_uri": "https://localhost:8080/"
        },
        "id": "K8pZj4J5sQE7",
        "outputId": "212023e6-3b57-4e07-8082-d8d194fba233"
      },
      "execution_count": null,
      "outputs": [
        {
          "output_type": "stream",
          "name": "stdout",
          "text": [
            "[[  11.22   43.13 1017.24   80.9 ]\n",
            " [  13.67   54.3  1015.92   75.42]\n",
            " [  32.84   77.95 1014.68   45.8 ]\n",
            " ...\n",
            " [  16.81   38.52 1018.26   75.21]\n",
            " [  12.8    41.16 1022.43   86.19]\n",
            " [  32.32   67.9  1006.08   37.93]]\n",
            "[[  28.66   77.95 1009.56   69.07]\n",
            " [  17.48   49.39 1021.51   84.53]\n",
            " [  14.86   43.14 1019.21   99.14]\n",
            " ...\n",
            " [  12.24   44.92 1023.74   88.21]\n",
            " [  27.28   47.93 1003.46   59.22]\n",
            " [  17.28   39.99 1007.09   74.25]]\n",
            "[473.93 467.87 431.97 ... 459.01 462.72 428.12] [431.23 460.01 461.14 ... 473.26 438.   463.28]\n"
          ]
        }
      ]
    },
    {
      "cell_type": "markdown",
      "metadata": {
        "id": "_mSLlAT9_eyI"
      },
      "source": [
        "## Part 2 - Building the ANN"
      ]
    },
    {
      "cell_type": "markdown",
      "metadata": {
        "id": "CsBULd_f_wLY"
      },
      "source": [
        "### Initializing the ANN"
      ]
    },
    {
      "cell_type": "code",
      "metadata": {
        "id": "J6Hd97Ls__Nz"
      },
      "source": [
        "ann = tf.keras.models.Sequential()"
      ],
      "execution_count": null,
      "outputs": []
    },
    {
      "cell_type": "markdown",
      "source": [
        "Adding another hidden layer"
      ],
      "metadata": {
        "id": "6hsWAiuOp8K0"
      }
    },
    {
      "cell_type": "markdown",
      "metadata": {
        "id": "iitAFJS_ABUn"
      },
      "source": [
        "### Adding the input layer and the first hidden layer"
      ]
    },
    {
      "cell_type": "code",
      "metadata": {
        "id": "ksO_Vv40AHix"
      },
      "source": [
        "ann.add(tf.keras.layers.Dense(units=8, activation='relu'))"
      ],
      "execution_count": null,
      "outputs": []
    },
    {
      "cell_type": "markdown",
      "source": [
        "The rectified linear activation function overcomes the vanishing gradient problem, allowing models to learn faster and perform better."
      ],
      "metadata": {
        "id": "pkdCjb5Lxe1h"
      }
    },
    {
      "cell_type": "markdown",
      "source": [
        ""
      ],
      "metadata": {
        "id": "2BDCkLRTYjyU"
      }
    },
    {
      "cell_type": "markdown",
      "metadata": {
        "id": "-lb4kK_wAKbs"
      },
      "source": [
        "### Adding the second hidden layer"
      ]
    },
    {
      "cell_type": "code",
      "metadata": {
        "id": "c2357OqEAQOQ"
      },
      "source": [
        "ann.add(tf.keras.layers.Dense(units=8, activation='relu'))\n",
        "ann.add(tf.keras.layers.Dense(units=6, activation='relu'))"
      ],
      "execution_count": null,
      "outputs": []
    },
    {
      "cell_type": "markdown",
      "metadata": {
        "id": "jwMOmKb3AdBY"
      },
      "source": [
        "### Adding the output layer"
      ]
    },
    {
      "cell_type": "code",
      "metadata": {
        "id": "YFATpzsUAkLL"
      },
      "source": [
        "ann.add(tf.keras.layers.Dense(units=1))"
      ],
      "execution_count": null,
      "outputs": []
    },
    {
      "cell_type": "markdown",
      "metadata": {
        "id": "fq7e4fF6A1yy"
      },
      "source": [
        "## Part 3 - Training the ANN"
      ]
    },
    {
      "cell_type": "markdown",
      "metadata": {
        "id": "qDeylAs2An25"
      },
      "source": [
        "### Compiling the ANN"
      ]
    },
    {
      "cell_type": "code",
      "metadata": {
        "id": "pesgbWlCAtB4"
      },
      "source": [
        "ann.compile(optimizer = 'adam', loss = 'mean_squared_error')"
      ],
      "execution_count": null,
      "outputs": []
    },
    {
      "cell_type": "markdown",
      "source": [
        "stochastic gradient decent:Gradient descent is an iterative algorithm, that starts from a random point on a function and travels down its slope in steps until it reaches the lowest point of that function.”\n",
        "\n",
        "Adam realizes the benefits of both Adaptive Gradient Algorithm and Root Mean Square Propagation"
      ],
      "metadata": {
        "id": "0Tbtu_HguqUD"
      }
    },
    {
      "cell_type": "code",
      "metadata": {
        "id": "c_vV-tiiA5zn",
        "colab": {
          "base_uri": "https://localhost:8080/"
        },
        "outputId": "13063c27-6b58-4d6e-8f9f-d930ef6295aa"
      },
      "source": [
        "model=ann.fit(X_train, Y_train, batch_size = 32, epochs = 150)"
      ],
      "execution_count": null,
      "outputs": [
        {
          "output_type": "stream",
          "name": "stdout",
          "text": [
            "Epoch 1/150\n",
            "240/240 [==============================] - 1s 2ms/step - loss: 42341.9102\n",
            "Epoch 2/150\n",
            "240/240 [==============================] - 0s 2ms/step - loss: 121.3792\n",
            "Epoch 3/150\n",
            "240/240 [==============================] - 0s 2ms/step - loss: 107.4015\n",
            "Epoch 4/150\n",
            "240/240 [==============================] - 0s 2ms/step - loss: 98.8448\n",
            "Epoch 5/150\n",
            "240/240 [==============================] - 0s 2ms/step - loss: 89.3658\n",
            "Epoch 6/150\n",
            "240/240 [==============================] - 0s 2ms/step - loss: 79.3141\n",
            "Epoch 7/150\n",
            "240/240 [==============================] - 0s 2ms/step - loss: 69.9268\n",
            "Epoch 8/150\n",
            "240/240 [==============================] - 0s 2ms/step - loss: 61.4622\n",
            "Epoch 9/150\n",
            "240/240 [==============================] - 0s 2ms/step - loss: 54.8943\n",
            "Epoch 10/150\n",
            "240/240 [==============================] - 0s 2ms/step - loss: 49.6386\n",
            "Epoch 11/150\n",
            "240/240 [==============================] - 0s 2ms/step - loss: 46.0925\n",
            "Epoch 12/150\n",
            "240/240 [==============================] - 0s 2ms/step - loss: 44.2464\n",
            "Epoch 13/150\n",
            "240/240 [==============================] - 0s 2ms/step - loss: 42.2445\n",
            "Epoch 14/150\n",
            "240/240 [==============================] - 0s 2ms/step - loss: 42.1124\n",
            "Epoch 15/150\n",
            "240/240 [==============================] - 0s 2ms/step - loss: 40.8106\n",
            "Epoch 16/150\n",
            "240/240 [==============================] - 0s 2ms/step - loss: 40.6418\n",
            "Epoch 17/150\n",
            "240/240 [==============================] - 0s 2ms/step - loss: 40.6368\n",
            "Epoch 18/150\n",
            "240/240 [==============================] - 0s 2ms/step - loss: 38.8163\n",
            "Epoch 19/150\n",
            "240/240 [==============================] - 0s 2ms/step - loss: 38.1435\n",
            "Epoch 20/150\n",
            "240/240 [==============================] - 0s 2ms/step - loss: 37.1232\n",
            "Epoch 21/150\n",
            "240/240 [==============================] - 0s 2ms/step - loss: 37.7407\n",
            "Epoch 22/150\n",
            "240/240 [==============================] - 0s 2ms/step - loss: 36.9122\n",
            "Epoch 23/150\n",
            "240/240 [==============================] - 0s 2ms/step - loss: 35.3276\n",
            "Epoch 24/150\n",
            "240/240 [==============================] - 0s 2ms/step - loss: 35.1942\n",
            "Epoch 25/150\n",
            "240/240 [==============================] - 0s 2ms/step - loss: 34.4668\n",
            "Epoch 26/150\n",
            "240/240 [==============================] - 0s 2ms/step - loss: 35.7126\n",
            "Epoch 27/150\n",
            "240/240 [==============================] - 0s 2ms/step - loss: 34.7376\n",
            "Epoch 28/150\n",
            "240/240 [==============================] - 0s 2ms/step - loss: 32.2080\n",
            "Epoch 29/150\n",
            "240/240 [==============================] - 0s 2ms/step - loss: 31.7247\n",
            "Epoch 30/150\n",
            "240/240 [==============================] - 0s 2ms/step - loss: 31.8585\n",
            "Epoch 31/150\n",
            "240/240 [==============================] - 0s 2ms/step - loss: 33.6398\n",
            "Epoch 32/150\n",
            "240/240 [==============================] - 0s 2ms/step - loss: 31.4786\n",
            "Epoch 33/150\n",
            "240/240 [==============================] - 0s 2ms/step - loss: 31.1827\n",
            "Epoch 34/150\n",
            "240/240 [==============================] - 0s 2ms/step - loss: 30.4430\n",
            "Epoch 35/150\n",
            "240/240 [==============================] - 0s 2ms/step - loss: 31.4734\n",
            "Epoch 36/150\n",
            "240/240 [==============================] - 0s 2ms/step - loss: 30.1113\n",
            "Epoch 37/150\n",
            "240/240 [==============================] - 0s 2ms/step - loss: 30.7083\n",
            "Epoch 38/150\n",
            "240/240 [==============================] - 0s 2ms/step - loss: 29.4613\n",
            "Epoch 39/150\n",
            "240/240 [==============================] - 0s 2ms/step - loss: 30.2589\n",
            "Epoch 40/150\n",
            "240/240 [==============================] - 0s 2ms/step - loss: 29.6530\n",
            "Epoch 41/150\n",
            "240/240 [==============================] - 0s 2ms/step - loss: 29.2520\n",
            "Epoch 42/150\n",
            "240/240 [==============================] - 0s 2ms/step - loss: 28.8991\n",
            "Epoch 43/150\n",
            "240/240 [==============================] - 0s 2ms/step - loss: 29.2478\n",
            "Epoch 44/150\n",
            "240/240 [==============================] - 0s 2ms/step - loss: 30.4380\n",
            "Epoch 45/150\n",
            "240/240 [==============================] - 0s 2ms/step - loss: 28.8564\n",
            "Epoch 46/150\n",
            "240/240 [==============================] - 0s 2ms/step - loss: 29.2089\n",
            "Epoch 47/150\n",
            "240/240 [==============================] - 0s 2ms/step - loss: 28.0477\n",
            "Epoch 48/150\n",
            "240/240 [==============================] - 0s 2ms/step - loss: 28.8955\n",
            "Epoch 49/150\n",
            "240/240 [==============================] - 0s 2ms/step - loss: 28.8239\n",
            "Epoch 50/150\n",
            "240/240 [==============================] - 0s 2ms/step - loss: 29.0342\n",
            "Epoch 51/150\n",
            "240/240 [==============================] - 0s 2ms/step - loss: 27.4169\n",
            "Epoch 52/150\n",
            "240/240 [==============================] - 0s 2ms/step - loss: 28.6384\n",
            "Epoch 53/150\n",
            "240/240 [==============================] - 0s 2ms/step - loss: 27.6354\n",
            "Epoch 54/150\n",
            "240/240 [==============================] - 0s 2ms/step - loss: 29.1864\n",
            "Epoch 55/150\n",
            "240/240 [==============================] - 0s 2ms/step - loss: 29.0646\n",
            "Epoch 56/150\n",
            "240/240 [==============================] - 0s 2ms/step - loss: 27.5754\n",
            "Epoch 57/150\n",
            "240/240 [==============================] - 0s 2ms/step - loss: 28.0528\n",
            "Epoch 58/150\n",
            "240/240 [==============================] - 0s 2ms/step - loss: 28.9546\n",
            "Epoch 59/150\n",
            "240/240 [==============================] - 0s 2ms/step - loss: 29.3779\n",
            "Epoch 60/150\n",
            "240/240 [==============================] - 0s 2ms/step - loss: 27.6936\n",
            "Epoch 61/150\n",
            "240/240 [==============================] - 0s 2ms/step - loss: 28.5054\n",
            "Epoch 62/150\n",
            "240/240 [==============================] - 0s 2ms/step - loss: 28.7406\n",
            "Epoch 63/150\n",
            "240/240 [==============================] - 0s 2ms/step - loss: 28.7501\n",
            "Epoch 64/150\n",
            "240/240 [==============================] - 0s 2ms/step - loss: 27.0060\n",
            "Epoch 65/150\n",
            "240/240 [==============================] - 0s 2ms/step - loss: 28.8824\n",
            "Epoch 66/150\n",
            "240/240 [==============================] - 0s 2ms/step - loss: 28.1390\n",
            "Epoch 67/150\n",
            "240/240 [==============================] - 0s 2ms/step - loss: 27.1264\n",
            "Epoch 68/150\n",
            "240/240 [==============================] - 0s 2ms/step - loss: 28.4589\n",
            "Epoch 69/150\n",
            "240/240 [==============================] - 0s 2ms/step - loss: 27.5528\n",
            "Epoch 70/150\n",
            "240/240 [==============================] - 0s 2ms/step - loss: 27.9530\n",
            "Epoch 71/150\n",
            "240/240 [==============================] - 0s 2ms/step - loss: 27.9155\n",
            "Epoch 72/150\n",
            "240/240 [==============================] - 0s 2ms/step - loss: 28.8959\n",
            "Epoch 73/150\n",
            "240/240 [==============================] - 0s 2ms/step - loss: 26.7463\n",
            "Epoch 74/150\n",
            "240/240 [==============================] - 0s 2ms/step - loss: 28.5754\n",
            "Epoch 75/150\n",
            "240/240 [==============================] - 0s 2ms/step - loss: 28.8709\n",
            "Epoch 76/150\n",
            "240/240 [==============================] - 0s 2ms/step - loss: 27.9814\n",
            "Epoch 77/150\n",
            "240/240 [==============================] - 0s 2ms/step - loss: 27.6787\n",
            "Epoch 78/150\n",
            "240/240 [==============================] - 1s 3ms/step - loss: 27.8366\n",
            "Epoch 79/150\n",
            "240/240 [==============================] - 1s 3ms/step - loss: 28.7412\n",
            "Epoch 80/150\n",
            "240/240 [==============================] - 1s 4ms/step - loss: 27.8657\n",
            "Epoch 81/150\n",
            "240/240 [==============================] - 0s 2ms/step - loss: 27.7957\n",
            "Epoch 82/150\n",
            "240/240 [==============================] - 0s 2ms/step - loss: 27.7357\n",
            "Epoch 83/150\n",
            "240/240 [==============================] - 0s 2ms/step - loss: 28.0703\n",
            "Epoch 84/150\n",
            "240/240 [==============================] - 0s 2ms/step - loss: 27.8069\n",
            "Epoch 85/150\n",
            "240/240 [==============================] - 0s 2ms/step - loss: 27.3049\n",
            "Epoch 86/150\n",
            "240/240 [==============================] - 0s 2ms/step - loss: 28.3425\n",
            "Epoch 87/150\n",
            "240/240 [==============================] - 0s 2ms/step - loss: 26.7376\n",
            "Epoch 88/150\n",
            "240/240 [==============================] - 0s 2ms/step - loss: 27.2823\n",
            "Epoch 89/150\n",
            "240/240 [==============================] - 0s 2ms/step - loss: 26.3450\n",
            "Epoch 90/150\n",
            "240/240 [==============================] - 0s 2ms/step - loss: 27.1625\n",
            "Epoch 91/150\n",
            "240/240 [==============================] - 0s 2ms/step - loss: 26.1057\n",
            "Epoch 92/150\n",
            "240/240 [==============================] - 0s 2ms/step - loss: 24.8208\n",
            "Epoch 93/150\n",
            "240/240 [==============================] - 0s 2ms/step - loss: 25.3244\n",
            "Epoch 94/150\n",
            "240/240 [==============================] - 0s 2ms/step - loss: 25.1558\n",
            "Epoch 95/150\n",
            "240/240 [==============================] - 0s 2ms/step - loss: 24.9194\n",
            "Epoch 96/150\n",
            "240/240 [==============================] - 0s 2ms/step - loss: 25.5391\n",
            "Epoch 97/150\n",
            "240/240 [==============================] - 0s 2ms/step - loss: 26.2530\n",
            "Epoch 98/150\n",
            "240/240 [==============================] - 0s 2ms/step - loss: 25.6893\n",
            "Epoch 99/150\n",
            "240/240 [==============================] - 0s 2ms/step - loss: 25.2535\n",
            "Epoch 100/150\n",
            "240/240 [==============================] - 0s 2ms/step - loss: 24.7521\n",
            "Epoch 101/150\n",
            "240/240 [==============================] - 0s 2ms/step - loss: 24.4905\n",
            "Epoch 102/150\n",
            "240/240 [==============================] - 0s 2ms/step - loss: 24.6617\n",
            "Epoch 103/150\n",
            "240/240 [==============================] - 0s 2ms/step - loss: 25.9193\n",
            "Epoch 104/150\n",
            "240/240 [==============================] - 0s 2ms/step - loss: 24.5935\n",
            "Epoch 105/150\n",
            "240/240 [==============================] - 0s 2ms/step - loss: 25.7356\n",
            "Epoch 106/150\n",
            "240/240 [==============================] - 0s 2ms/step - loss: 25.5574\n",
            "Epoch 107/150\n",
            "240/240 [==============================] - 0s 2ms/step - loss: 25.0427\n",
            "Epoch 108/150\n",
            "240/240 [==============================] - 0s 2ms/step - loss: 25.5844\n",
            "Epoch 109/150\n",
            "240/240 [==============================] - 0s 2ms/step - loss: 25.2542\n",
            "Epoch 110/150\n",
            "240/240 [==============================] - 0s 2ms/step - loss: 26.0995\n",
            "Epoch 111/150\n",
            "240/240 [==============================] - 0s 2ms/step - loss: 26.2146\n",
            "Epoch 112/150\n",
            "240/240 [==============================] - 0s 2ms/step - loss: 24.3469\n",
            "Epoch 113/150\n",
            "240/240 [==============================] - 0s 2ms/step - loss: 25.9745\n",
            "Epoch 114/150\n",
            "240/240 [==============================] - 0s 2ms/step - loss: 25.8218\n",
            "Epoch 115/150\n",
            "240/240 [==============================] - 0s 2ms/step - loss: 25.6337\n",
            "Epoch 116/150\n",
            "240/240 [==============================] - 0s 2ms/step - loss: 25.4582\n",
            "Epoch 117/150\n",
            "240/240 [==============================] - 0s 2ms/step - loss: 24.3521\n",
            "Epoch 118/150\n",
            "240/240 [==============================] - 0s 2ms/step - loss: 25.0861\n",
            "Epoch 119/150\n",
            "240/240 [==============================] - 0s 2ms/step - loss: 25.6702\n",
            "Epoch 120/150\n",
            "240/240 [==============================] - 0s 2ms/step - loss: 25.0813\n",
            "Epoch 121/150\n",
            "240/240 [==============================] - 0s 2ms/step - loss: 24.9770\n",
            "Epoch 122/150\n",
            "240/240 [==============================] - 0s 2ms/step - loss: 25.0470\n",
            "Epoch 123/150\n",
            "240/240 [==============================] - 0s 2ms/step - loss: 25.3945\n",
            "Epoch 124/150\n",
            "240/240 [==============================] - 0s 2ms/step - loss: 25.8302\n",
            "Epoch 125/150\n",
            "240/240 [==============================] - 0s 2ms/step - loss: 25.1840\n",
            "Epoch 126/150\n",
            "240/240 [==============================] - 0s 2ms/step - loss: 24.7452\n",
            "Epoch 127/150\n",
            "240/240 [==============================] - 0s 2ms/step - loss: 25.4728\n",
            "Epoch 128/150\n",
            "240/240 [==============================] - 0s 2ms/step - loss: 25.6040\n",
            "Epoch 129/150\n",
            "240/240 [==============================] - 0s 2ms/step - loss: 25.4280\n",
            "Epoch 130/150\n",
            "240/240 [==============================] - 0s 2ms/step - loss: 24.2390\n",
            "Epoch 131/150\n",
            "240/240 [==============================] - 0s 2ms/step - loss: 25.8068\n",
            "Epoch 132/150\n",
            "240/240 [==============================] - 0s 2ms/step - loss: 25.1306\n",
            "Epoch 133/150\n",
            "240/240 [==============================] - 0s 2ms/step - loss: 25.1506\n",
            "Epoch 134/150\n",
            "240/240 [==============================] - 0s 2ms/step - loss: 24.8443\n",
            "Epoch 135/150\n",
            "240/240 [==============================] - 0s 2ms/step - loss: 25.2851\n",
            "Epoch 136/150\n",
            "240/240 [==============================] - 0s 2ms/step - loss: 24.9847\n",
            "Epoch 137/150\n",
            "240/240 [==============================] - 0s 2ms/step - loss: 25.1511\n",
            "Epoch 138/150\n",
            "240/240 [==============================] - 0s 2ms/step - loss: 26.3440\n",
            "Epoch 139/150\n",
            "240/240 [==============================] - 0s 2ms/step - loss: 24.5555\n",
            "Epoch 140/150\n",
            "240/240 [==============================] - 0s 2ms/step - loss: 25.4918\n",
            "Epoch 141/150\n",
            "240/240 [==============================] - 0s 2ms/step - loss: 25.7525\n",
            "Epoch 142/150\n",
            "240/240 [==============================] - 0s 2ms/step - loss: 24.1491\n",
            "Epoch 143/150\n",
            "240/240 [==============================] - 0s 2ms/step - loss: 24.6225\n",
            "Epoch 144/150\n",
            "240/240 [==============================] - 0s 2ms/step - loss: 25.5423\n",
            "Epoch 145/150\n",
            "240/240 [==============================] - 0s 2ms/step - loss: 24.5270\n",
            "Epoch 146/150\n",
            "240/240 [==============================] - 0s 2ms/step - loss: 26.2220\n",
            "Epoch 147/150\n",
            "240/240 [==============================] - 0s 2ms/step - loss: 24.6659\n",
            "Epoch 148/150\n",
            "240/240 [==============================] - 0s 2ms/step - loss: 25.8750\n",
            "Epoch 149/150\n",
            "240/240 [==============================] - 0s 2ms/step - loss: 25.0252\n",
            "Epoch 150/150\n",
            "240/240 [==============================] - 0s 2ms/step - loss: 24.1813\n"
          ]
        }
      ]
    },
    {
      "cell_type": "markdown",
      "metadata": {
        "id": "0H0zKKNEBLD5"
      },
      "source": [
        "### Predicting the results of the Test set"
      ]
    },
    {
      "cell_type": "code",
      "metadata": {
        "id": "IA0yApEmBG1X"
      },
      "source": [
        "y_pred = ann.predict(X_test)\n"
      ],
      "execution_count": null,
      "outputs": []
    },
    {
      "cell_type": "code",
      "source": [
        "np.set_printoptions(precision=2)"
      ],
      "metadata": {
        "id": "-gqV6v9rjmaB"
      },
      "execution_count": null,
      "outputs": []
    },
    {
      "cell_type": "code",
      "source": [
        "print(y_pred)"
      ],
      "metadata": {
        "colab": {
          "base_uri": "https://localhost:8080/"
        },
        "id": "cxJjESMZjsUL",
        "outputId": "7c70fa9d-826f-4d76-eb02-a197edfc7c0c"
      },
      "execution_count": null,
      "outputs": [
        {
          "output_type": "stream",
          "name": "stdout",
          "text": [
            "[[430.08]\n",
            " [459.59]\n",
            " [464.41]\n",
            " ...\n",
            " [471.44]\n",
            " [436.47]\n",
            " [456.52]]\n"
          ]
        }
      ]
    },
    {
      "cell_type": "code",
      "source": [
        "print(np.concatenate((y_pred.reshape(len(y_pred),1),Y_test.reshape(len(Y_test),1)),1))"
      ],
      "metadata": {
        "colab": {
          "base_uri": "https://localhost:8080/"
        },
        "id": "PQOCgnNzkLL9",
        "outputId": "3fc89edd-822e-439c-95b1-7c85ab662397"
      },
      "execution_count": null,
      "outputs": [
        {
          "output_type": "stream",
          "name": "stdout",
          "text": [
            "[[430.08 431.23]\n",
            " [459.59 460.01]\n",
            " [464.41 461.14]\n",
            " ...\n",
            " [471.44 473.26]\n",
            " [436.47 438.  ]\n",
            " [456.52 463.28]]\n"
          ]
        }
      ]
    },
    {
      "cell_type": "code",
      "source": [
        "plt.plot(model.history['loss'])\n",
        "\n",
        "plt.xlabel(\"Epochs\")\n",
        "plt.ylabel(\"Loss\")"
      ],
      "metadata": {
        "colab": {
          "base_uri": "https://localhost:8080/",
          "height": 296
        },
        "id": "wTwh12O05YPP",
        "outputId": "7bfb2352-f8b6-4d2d-c351-4564ca789a9c"
      },
      "execution_count": null,
      "outputs": [
        {
          "output_type": "execute_result",
          "data": {
            "text/plain": [
              "Text(0, 0.5, 'Loss')"
            ]
          },
          "metadata": {},
          "execution_count": 60
        },
        {
          "output_type": "display_data",
          "data": {
            "image/png": "[encoded data removed]",
            "text/plain": [
              "<Figure size 432x288 with 1 Axes>"
            ]
          },
          "metadata": {
            "needs_background": "light"
          }
        }
      ]
    },
    {
      "cell_type": "code",
      "source": [
        "model.history"
      ],
      "metadata": {
        "colab": {
          "base_uri": "https://localhost:8080/"
        },
        "id": "HTY9w44U5Ycb",
        "outputId": "93e637a7-955e-4d5c-ee65-7c39f1d68fae"
      },
      "execution_count": null,
      "outputs": [
        {
          "output_type": "execute_result",
          "data": {
            "text/plain": [
              "{'loss': [42341.91015625,\n",
              "  121.37918853759766,\n",
              "  107.40147399902344,\n",
              "  98.84481048583984,\n",
              "  89.36580657958984,\n",
              "  79.31414794921875,\n",
              "  69.92676544189453,\n",
              "  61.46215057373047,\n",
              "  54.894264221191406,\n",
              "  49.63857650756836,\n",
              "  46.092525482177734,\n",
              "  44.24643325805664,\n",
              "  42.2445182800293,\n",
              "  42.11243438720703,\n",
              "  40.8105583190918,\n",
              "  40.64179229736328,\n",
              "  40.636802673339844,\n",
              "  38.816341400146484,\n",
              "  38.14347457885742,\n",
              "  37.12322235107422,\n",
              "  37.74071502685547,\n",
              "  36.91218566894531,\n",
              "  35.32756805419922,\n",
              "  35.19416809082031,\n",
              "  34.466766357421875,\n",
              "  35.71255111694336,\n",
              "  34.73755645751953,\n",
              "  32.208030700683594,\n",
              "  31.724721908569336,\n",
              "  31.858495712280273,\n",
              "  33.63975143432617,\n",
              "  31.478595733642578,\n",
              "  31.182743072509766,\n",
              "  30.443012237548828,\n",
              "  31.47341537475586,\n",
              "  30.11128044128418,\n",
              "  30.708284378051758,\n",
              "  29.461336135864258,\n",
              "  30.258892059326172,\n",
              "  29.653005599975586,\n",
              "  29.2519588470459,\n",
              "  28.899076461791992,\n",
              "  29.247819900512695,\n",
              "  30.437984466552734,\n",
              "  28.856441497802734,\n",
              "  29.208850860595703,\n",
              "  28.0477294921875,\n",
              "  28.89547348022461,\n",
              "  28.823875427246094,\n",
              "  29.034183502197266,\n",
              "  27.416940689086914,\n",
              "  28.638437271118164,\n",
              "  27.635366439819336,\n",
              "  29.186443328857422,\n",
              "  29.06458854675293,\n",
              "  27.57537841796875,\n",
              "  28.052845001220703,\n",
              "  28.9545955657959,\n",
              "  29.377920150756836,\n",
              "  27.69356918334961,\n",
              "  28.505353927612305,\n",
              "  28.740619659423828,\n",
              "  28.75006675720215,\n",
              "  27.005992889404297,\n",
              "  28.8824462890625,\n",
              "  28.1390323638916,\n",
              "  27.126388549804688,\n",
              "  28.458908081054688,\n",
              "  27.55278968811035,\n",
              "  27.953048706054688,\n",
              "  27.915456771850586,\n",
              "  28.895902633666992,\n",
              "  26.746307373046875,\n",
              "  28.575414657592773,\n",
              "  28.87091827392578,\n",
              "  27.9814395904541,\n",
              "  27.6787166595459,\n",
              "  27.836566925048828,\n",
              "  28.74121856689453,\n",
              "  27.86567497253418,\n",
              "  27.795713424682617,\n",
              "  27.735666275024414,\n",
              "  28.070344924926758,\n",
              "  27.806922912597656,\n",
              "  27.30485725402832,\n",
              "  28.34249496459961,\n",
              "  26.737552642822266,\n",
              "  27.282344818115234,\n",
              "  26.344972610473633,\n",
              "  27.162490844726562,\n",
              "  26.105695724487305,\n",
              "  24.820817947387695,\n",
              "  25.32438087463379,\n",
              "  25.155824661254883,\n",
              "  24.919376373291016,\n",
              "  25.539073944091797,\n",
              "  26.253040313720703,\n",
              "  25.68927001953125,\n",
              "  25.253536224365234,\n",
              "  24.752073287963867,\n",
              "  24.490497589111328,\n",
              "  24.6617374420166,\n",
              "  25.919328689575195,\n",
              "  24.593488693237305,\n",
              "  25.735633850097656,\n",
              "  25.557443618774414,\n",
              "  25.042705535888672,\n",
              "  25.58443832397461,\n",
              "  25.254236221313477,\n",
              "  26.099538803100586,\n",
              "  26.214590072631836,\n",
              "  24.346920013427734,\n",
              "  25.97452163696289,\n",
              "  25.82176399230957,\n",
              "  25.6336612701416,\n",
              "  25.458209991455078,\n",
              "  24.352092742919922,\n",
              "  25.086116790771484,\n",
              "  25.670228958129883,\n",
              "  25.08134651184082,\n",
              "  24.977031707763672,\n",
              "  25.046964645385742,\n",
              "  25.394512176513672,\n",
              "  25.830198287963867,\n",
              "  25.18398094177246,\n",
              "  24.745180130004883,\n",
              "  25.47282600402832,\n",
              "  25.60397720336914,\n",
              "  25.427974700927734,\n",
              "  24.239013671875,\n",
              "  25.806814193725586,\n",
              "  25.13056755065918,\n",
              "  25.15058135986328,\n",
              "  24.844329833984375,\n",
              "  25.285144805908203,\n",
              "  24.98472023010254,\n",
              "  25.151142120361328,\n",
              "  26.343992233276367,\n",
              "  24.555450439453125,\n",
              "  25.491792678833008,\n",
              "  25.752519607543945,\n",
              "  24.149133682250977,\n",
              "  24.622467041015625,\n",
              "  25.54229164123535,\n",
              "  24.526987075805664,\n",
              "  26.222002029418945,\n",
              "  24.66590118408203,\n",
              "  25.875049591064453,\n",
              "  25.025226593017578,\n",
              "  24.181318283081055]}"
            ]
          },
          "metadata": {},
          "execution_count": 61
        }
      ]
    },
    {
      "cell_type": "code",
      "source": [
        "plt.scatter(Y_test,y_pred)\n",
        "\n",
        "plt.xlabel(\"Actual values\")\n",
        "plt.ylabel(\"Predicted values\")"
      ],
      "metadata": {
        "colab": {
          "base_uri": "https://localhost:8080/",
          "height": 296
        },
        "id": "HiVTE1zz-5rN",
        "outputId": "c2f25caa-9fc0-4c41-be8b-d306a20cd806"
      },
      "execution_count": null,
      "outputs": [
        {
          "output_type": "execute_result",
          "data": {
            "text/plain": [
              "Text(0, 0.5, 'Predicted values')"
            ]
          },
          "metadata": {},
          "execution_count": 64
        },
        {
          "output_type": "display_data",
          "data": {
            "image/png": "[encoded data removed]",
            "text/plain": [
              "<Figure size 432x288 with 1 Axes>"
            ]
          },
          "metadata": {
            "needs_background": "light"
          }
        }
      ]
    },
    {
      "cell_type": "code",
      "source": [
        "dataset = pd.read_excel('Folds5x2_pp.xlsx',sheet_name='Sheet2')\n",
        "test_x= dataset.iloc[:,:-1].values\n",
        "test_y= dataset.iloc[:,-1].values"
      ],
      "metadata": {
        "id": "Y0PY0SLP5YoK"
      },
      "execution_count": null,
      "outputs": []
    },
    {
      "cell_type": "code",
      "source": [
        "testing=ann.predict(test_x)"
      ],
      "metadata": {
        "id": "yautdD9y5Y5h"
      },
      "execution_count": null,
      "outputs": []
    },
    {
      "cell_type": "code",
      "source": [
        "plt.scatter(test_y,testing)\n",
        "\n",
        "plt.xlabel(\"Actual values\")\n",
        "plt.ylabel(\"Predicted values\")\n",
        "\n",
        "plt.title(\"Predictions for another set\")"
      ],
      "metadata": {
        "colab": {
          "base_uri": "https://localhost:8080/",
          "height": 312
        },
        "id": "Its70Y9BDvT8",
        "outputId": "2f66d1c8-9917-429b-992c-5061a2085749"
      },
      "execution_count": null,
      "outputs": [
        {
          "output_type": "execute_result",
          "data": {
            "text/plain": [
              "Text(0.5, 1.0, 'Predictions for another set')"
            ]
          },
          "metadata": {},
          "execution_count": 68
        },
        {
          "output_type": "display_data",
          "data": {
            "image/png": "[encoded data removed]",
            "text/plain": [
              "<Figure size 432x288 with 1 Axes>"
            ]
          },
          "metadata": {
            "needs_background": "light"
          }
        }
      ]
    }
  ]
}